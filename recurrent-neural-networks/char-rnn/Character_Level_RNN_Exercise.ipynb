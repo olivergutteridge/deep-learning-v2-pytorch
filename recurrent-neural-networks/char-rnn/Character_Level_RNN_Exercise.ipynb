{
 "cells": [
  {
   "cell_type": "markdown",
   "metadata": {},
   "source": [
    "# Character-Level LSTM in PyTorch\n",
    "\n",
    "In this notebook, I'll construct a character-level LSTM with PyTorch. The network will train character by character on some text, then generate new text character by character. As an example, I will train on Anna Karenina. **This model will be able to generate new text based on the text from the book!**\n",
    "\n",
    "This network is based off of Andrej Karpathy's [post on RNNs](http://karpathy.github.io/2015/05/21/rnn-effectiveness/) and [implementation in Torch](https://github.com/karpathy/char-rnn). Below is the general architecture of the character-wise RNN.\n",
    "\n",
    "<img src=\"assets/charseq.jpeg\" width=\"500\">"
   ]
  },
  {
   "cell_type": "markdown",
   "metadata": {},
   "source": [
    "First let's load in our required resources for data loading and model creation."
   ]
  },
  {
   "cell_type": "code",
   "execution_count": 1,
   "metadata": {
    "collapsed": true
   },
   "outputs": [],
   "source": [
    "import numpy as np\n",
    "import torch\n",
    "from torch import nn\n",
    "import torch.nn.functional as F"
   ]
  },
  {
   "cell_type": "markdown",
   "metadata": {},
   "source": [
    "## Load in Data\n",
    "\n",
    "Then, we'll load the Anna Karenina text file and convert it into integers for our network to use. "
   ]
  },
  {
   "cell_type": "code",
   "execution_count": 2,
   "metadata": {
    "collapsed": true
   },
   "outputs": [],
   "source": [
    "# open text file and read in data as `text`\n",
    "with open('data/anna.txt', 'r') as f:\n",
    "    text = f.read()"
   ]
  },
  {
   "cell_type": "markdown",
   "metadata": {},
   "source": [
    "Let's check out the first 100 characters, make sure everything is peachy. According to the [American Book Review](http://americanbookreview.org/100bestlines.asp), this is the 6th best first line of a book ever."
   ]
  },
  {
   "cell_type": "code",
   "execution_count": 3,
   "metadata": {
    "collapsed": true
   },
   "outputs": [
    {
     "data": {
      "text/plain": [
       "'Chapter 1\\n\\n\\nHappy families are all alike; every unhappy family is unhappy in its own\\nway.\\n\\nEverythin'"
      ]
     },
     "execution_count": 3,
     "metadata": {},
     "output_type": "execute_result"
    }
   ],
   "source": [
    "text[:100]"
   ]
  },
  {
   "cell_type": "markdown",
   "metadata": {},
   "source": [
    "### Tokenization\n",
    "\n",
    "In the cells, below, I'm creating a couple of **dictionaries** to convert the characters to and from integers. Encoding the characters as integers makes it easier to use as input in the network."
   ]
  },
  {
   "cell_type": "code",
   "execution_count": 9,
   "metadata": {
    "collapsed": true
   },
   "outputs": [],
   "source": [
    "# encode the text and map each character to an integer and vice versa\n",
    "\n",
    "# we create two dictionaries:\n",
    "# 1. int2char, which maps integers to characters\n",
    "# 2. char2int, which maps characters to unique integers\n",
    "chars = tuple(set(text))\n",
    "int2char = dict(enumerate(chars))\n",
    "char2int = {ch: ii for ii, ch in int2char.items()}\n",
    "\n",
    "# encode the text\n",
    "encoded = np.array([char2int[ch] for ch in text])"
   ]
  },
  {
   "cell_type": "markdown",
   "metadata": {},
   "source": [
    "And we can see those same characters from above, encoded as integers."
   ]
  },
  {
   "cell_type": "code",
   "execution_count": 10,
   "metadata": {
    "collapsed": true
   },
   "outputs": [
    {
     "data": {
      "text/plain": [
       "array([62, 35,  2, 43, 59, 45, 52, 50, 55, 16, 16, 16,  5,  2, 43, 43, 27,\n",
       "       50, 66,  2, 67, 32, 61, 32, 45, 20, 50,  2, 52, 45, 50,  2, 61, 61,\n",
       "       50,  2, 61, 32,  6, 45, 65, 50, 45,  4, 45, 52, 27, 50, 19, 56, 35,\n",
       "        2, 43, 43, 27, 50, 66,  2, 67, 32, 61, 27, 50, 32, 20, 50, 19, 56,\n",
       "       35,  2, 43, 43, 27, 50, 32, 56, 50, 32, 59, 20, 50, 47, 68, 56, 16,\n",
       "       68,  2, 27, 18, 16, 16, 53,  4, 45, 52, 27, 59, 35, 32, 56])"
      ]
     },
     "execution_count": 10,
     "metadata": {},
     "output_type": "execute_result"
    }
   ],
   "source": [
    "encoded[:100]"
   ]
  },
  {
   "cell_type": "markdown",
   "metadata": {},
   "source": [
    "## Pre-processing the data\n",
    "\n",
    "As you can see in our char-RNN image above, our LSTM expects an input that is **one-hot encoded** meaning that each character is converted into an integer (via our created dictionary) and *then* converted into a column vector where only it's corresponding integer index will have the value of 1 and the rest of the vector will be filled with 0's. Since we're one-hot encoding the data, let's make a function to do that!\n"
   ]
  },
  {
   "cell_type": "code",
   "execution_count": 11,
   "metadata": {
    "collapsed": true
   },
   "outputs": [],
   "source": [
    "def one_hot_encode(arr, n_labels):\n",
    "    \n",
    "    # Initialize the encoded array\n",
    "    one_hot = np.zeros((arr.size, n_labels), dtype=np.float32)\n",
    "    \n",
    "    # Fill the appropriate elements with ones\n",
    "    one_hot[np.arange(one_hot.shape[0]), arr.flatten()] = 1.\n",
    "    \n",
    "    # Finally reshape it to get back to the original array\n",
    "    one_hot = one_hot.reshape((*arr.shape, n_labels))\n",
    "    \n",
    "    return one_hot"
   ]
  },
  {
   "cell_type": "code",
   "execution_count": 12,
   "metadata": {
    "collapsed": true
   },
   "outputs": [
    {
     "name": "stdout",
     "output_type": "stream",
     "text": [
      "[[[0. 0. 0. 1. 0. 0. 0. 0.]\n",
      "  [0. 0. 0. 0. 0. 1. 0. 0.]\n",
      "  [0. 1. 0. 0. 0. 0. 0. 0.]]]\n"
     ]
    }
   ],
   "source": [
    "# check that the function works as expected\n",
    "test_seq = np.array([[3, 5, 1]])\n",
    "one_hot = one_hot_encode(test_seq, 8)\n",
    "\n",
    "print(one_hot)"
   ]
  },
  {
   "cell_type": "markdown",
   "metadata": {},
   "source": [
    "## Making training mini-batches\n",
    "\n",
    "\n",
    "To train on this data, we also want to create mini-batches for training. Remember that we want our batches to be multiple sequences of some desired number of sequence steps. Considering a simple example, our batches would look like this:\n",
    "\n",
    "<img src=\"assets/sequence_batching@1x.png\" width=500px>\n",
    "\n",
    "\n",
    "<br>\n",
    "\n",
    "In this example, we'll take the encoded characters (passed in as the `arr` parameter) and split them into multiple sequences, given by `batch_size`. Each of our sequences will be `seq_length` long.\n",
    "\n",
    "### Creating Batches\n",
    "\n",
    "**1. The first thing we need to do is discard some of the text so we only have completely full mini-batches. **\n",
    "\n",
    "Each batch contains $N \\times M$ characters, where $N$ is the batch size (the number of sequences in a batch) and $M$ is the seq_length or number of time steps in a sequence. Then, to get the total number of batches, $K$, that we can make from the array `arr`, you divide the length of `arr` by the number of characters per batch. Once you know the number of batches, you can get the total number of characters to keep from `arr`, $N * M * K$.\n",
    "\n",
    "**2. After that, we need to split `arr` into $N$ batches. ** \n",
    "\n",
    "You can do this using `arr.reshape(size)` where `size` is a tuple containing the dimensions sizes of the reshaped array. We know we want $N$ sequences in a batch, so let's make that the size of the first dimension. For the second dimension, you can use `-1` as a placeholder in the size, it'll fill up the array with the appropriate data for you. After this, you should have an array that is $N \\times (M * K)$.\n",
    "\n",
    "**3. Now that we have this array, we can iterate through it to get our mini-batches. **\n",
    "\n",
    "The idea is each batch is a $N \\times M$ window on the $N \\times (M * K)$ array. For each subsequent batch, the window moves over by `seq_length`. We also want to create both the input and target arrays. Remember that the targets are just the inputs shifted over by one character. The way I like to do this window is use `range` to take steps of size `n_steps` from $0$ to `arr.shape[1]`, the total number of tokens in each sequence. That way, the integers you get from `range` always point to the start of a batch, and each window is `seq_length` wide.\n",
    "\n",
    "> **TODO:** Write the code for creating batches in the function below. The exercises in this notebook _will not be easy_. I've provided a notebook with solutions alongside this notebook. If you get stuck, checkout the solutions. The most important thing is that you don't copy and paste the code into here, **type out the solution code yourself.**"
   ]
  },
  {
   "cell_type": "code",
   "execution_count": 15,
   "metadata": {
    "collapsed": true
   },
   "outputs": [],
   "source": [
    "def get_batches(arr, batch_size, seq_length):\n",
    "    '''Create a generator that returns batches of size\n",
    "       batch_size x seq_length from arr.\n",
    "       \n",
    "       Arguments\n",
    "       ---------\n",
    "       arr: Array you want to make batches from\n",
    "       batch_size: Batch size, the number of sequences per batch\n",
    "       seq_length: Number of encoded chars in a sequence\n",
    "    '''\n",
    "    \n",
    "    ## TODO: Get the number of batches we can make\n",
    "    char_per_batch = batch_size * seq_length\n",
    "    n_batches = len(arr) // char_per_batch\n",
    "    \n",
    "    ## TODO: Keep only enough characters to make full batches\n",
    "    arr = arr[:n_batches*char_per_batch]\n",
    "    \n",
    "    ## TODO: Reshape into batch_size rows\n",
    "    arr = arr.reshape((batch_size, -1))\n",
    "\n",
    "    \n",
    "    ## TODO: Iterate over the batches using a window of size seq_length\n",
    "    for n in range(0, arr.shape[1], seq_length):\n",
    "        # The features\n",
    "        x = arr[:, n:n+seq_length]\n",
    "        # The targets, shifted by one\n",
    "        y = np.zeros_like(x)\n",
    "        try:\n",
    "            # make all but last elemement in y, the next character in the sequence\n",
    "            y[:, :-1] = x[:, 1:]\n",
    "            # get next character from original arr for the last character in y (not present in x)\n",
    "            y[:, -1] = arr[:, n+seq_length]\n",
    "        except IndexError:\n",
    "            # handle reaching the end of the original data (wraps around tot the beginning of the data)\n",
    "            y[:, :-1] = x[:, 1:]\n",
    "            y[:, -1] = arr[:, 0]\n",
    "        yield x, y"
   ]
  },
  {
   "cell_type": "markdown",
   "metadata": {},
   "source": [
    "### Test Your Implementation\n",
    "\n",
    "Now I'll make some data sets and we can check out what's going on as we batch data. Here, as an example, I'm going to use a batch size of 8 and 50 sequence steps."
   ]
  },
  {
   "cell_type": "code",
   "execution_count": 16,
   "metadata": {
    "collapsed": true
   },
   "outputs": [],
   "source": [
    "batches = get_batches(encoded, 8, 50)\n",
    "x, y = next(batches)"
   ]
  },
  {
   "cell_type": "code",
   "execution_count": 17,
   "metadata": {
    "collapsed": true
   },
   "outputs": [
    {
     "name": "stdout",
     "output_type": "stream",
     "text": [
      "x\n",
      " [[62 35  2 43 59 45 52 50 55 16]\n",
      " [20 47 56 50 59 35  2 59 50  2]\n",
      " [45 56 69 50 47 52 50  2 50 66]\n",
      " [20 50 59 35 45 50 42 35 32 45]\n",
      " [50 20  2 68 50 35 45 52 50 59]\n",
      " [42 19 20 20 32 47 56 50  2 56]\n",
      " [50 29 56 56  2 50 35  2 69 50]\n",
      " [72 36 61 47 56 20  6 27 18 50]]\n",
      "\n",
      "y\n",
      " [[35  2 43 59 45 52 50 55 16 16]\n",
      " [47 56 50 59 35  2 59 50  2 59]\n",
      " [56 69 50 47 52 50  2 50 66 47]\n",
      " [50 59 35 45 50 42 35 32 45 66]\n",
      " [20  2 68 50 35 45 52 50 59 45]\n",
      " [19 20 20 32 47 56 50  2 56 69]\n",
      " [29 56 56  2 50 35  2 69 50 20]\n",
      " [36 61 47 56 20  6 27 18 50 49]]\n"
     ]
    }
   ],
   "source": [
    "# printing out the first 10 items in a sequence\n",
    "print('x\\n', x[:10, :10])\n",
    "print('\\ny\\n', y[:10, :10])"
   ]
  },
  {
   "cell_type": "markdown",
   "metadata": {},
   "source": [
    "If you implemented `get_batches` correctly, the above output should look something like \n",
    "```\n",
    "x\n",
    " [[25  8 60 11 45 27 28 73  1  2]\n",
    " [17  7 20 73 45  8 60 45 73 60]\n",
    " [27 20 80 73  7 28 73 60 73 65]\n",
    " [17 73 45  8 27 73 66  8 46 27]\n",
    " [73 17 60 12 73  8 27 28 73 45]\n",
    " [66 64 17 17 46  7 20 73 60 20]\n",
    " [73 76 20 20 60 73  8 60 80 73]\n",
    " [47 35 43  7 20 17 24 50 37 73]]\n",
    "\n",
    "y\n",
    " [[ 8 60 11 45 27 28 73  1  2  2]\n",
    " [ 7 20 73 45  8 60 45 73 60 45]\n",
    " [20 80 73  7 28 73 60 73 65  7]\n",
    " [73 45  8 27 73 66  8 46 27 65]\n",
    " [17 60 12 73  8 27 28 73 45 27]\n",
    " [64 17 17 46  7 20 73 60 20 80]\n",
    " [76 20 20 60 73  8 60 80 73 17]\n",
    " [35 43  7 20 17 24 50 37 73 36]]\n",
    " ```\n",
    " although the exact numbers may be different. Check to make sure the data is shifted over one step for `y`."
   ]
  },
  {
   "cell_type": "markdown",
   "metadata": {},
   "source": [
    "---\n",
    "## Defining the network with PyTorch\n",
    "\n",
    "Below is where you'll define the network.\n",
    "\n",
    "<img src=\"assets/charRNN.png\" width=500px>\n",
    "\n",
    "Next, you'll use PyTorch to define the architecture of the network. We start by defining the layers and operations we want. Then, define a method for the forward pass. You've also been given a method for predicting characters."
   ]
  },
  {
   "cell_type": "markdown",
   "metadata": {},
   "source": [
    "### Model Structure\n",
    "\n",
    "In `__init__` the suggested structure is as follows:\n",
    "* Create and store the necessary dictionaries (this has been done for you)\n",
    "* Define an LSTM layer that takes as params: an input size (the number of characters), a hidden layer size `n_hidden`, a number of layers `n_layers`, a dropout probability `drop_prob`, and a batch_first boolean (True, since we are batching)\n",
    "* Define a dropout layer with `drop_prob`\n",
    "* Define a fully-connected layer with params: input size `n_hidden` and output size (the number of characters)\n",
    "* Finally, initialize the weights (again, this has been given)\n",
    "\n",
    "Note that some parameters have been named and given in the `__init__` function, and we use them and store them by doing something like `self.drop_prob = drop_prob`."
   ]
  },
  {
   "cell_type": "markdown",
   "metadata": {},
   "source": [
    "---\n",
    "### LSTM Inputs/Outputs\n",
    "\n",
    "You can create a basic [LSTM layer](https://pytorch.org/docs/stable/nn.html#lstm) as follows\n",
    "\n",
    "```python\n",
    "self.lstm = nn.LSTM(input_size, n_hidden, n_layers, \n",
    "                            dropout=drop_prob, batch_first=True)\n",
    "```\n",
    "\n",
    "where `input_size` is the number of characters this cell expects to see as sequential input, and `n_hidden` is the number of units in the hidden layers in the cell. And we can add dropout by adding a dropout parameter with a specified probability; this will automatically add dropout to the inputs or outputs. Finally, in the `forward` function, we can stack up the LSTM cells into layers using `.view`. With this, you pass in a list of cells and it will send the output of one cell into the next cell.\n",
    "\n",
    "We also need to create an initial hidden state of all zeros. This is done like so\n",
    "\n",
    "```python\n",
    "self.init_hidden()\n",
    "```"
   ]
  },
  {
   "cell_type": "code",
   "execution_count": 21,
   "metadata": {
    "collapsed": true
   },
   "outputs": [
    {
     "name": "stdout",
     "output_type": "stream",
     "text": [
      "Training on GPU!\n"
     ]
    }
   ],
   "source": [
    "# check if GPU is available\n",
    "train_on_gpu = torch.backends.mps.is_available()\n",
    "if(train_on_gpu):\n",
    "    print('Training on GPU!')\n",
    "    device = torch.device('mps')\n",
    "else: \n",
    "    print('No GPU available, training on CPU; consider making n_epochs very small.')\n",
    "    device = torch.device('cpu')"
   ]
  },
  {
   "cell_type": "code",
   "execution_count": 26,
   "metadata": {
    "collapsed": true
   },
   "outputs": [],
   "source": [
    "class CharRNN(nn.Module):\n",
    "    \n",
    "    def __init__(self, tokens, n_hidden=256, n_layers=2,\n",
    "                               drop_prob=0.5, lr=0.001):\n",
    "        super().__init__()\n",
    "        self.drop_prob = drop_prob\n",
    "        self.n_layers = n_layers\n",
    "        self.n_hidden = n_hidden\n",
    "        self.lr = lr\n",
    "        \n",
    "        # creating character dictionaries\n",
    "        self.chars = tokens\n",
    "        self.int2char = dict(enumerate(self.chars))\n",
    "        self.char2int = {ch: ii for ii, ch in self.int2char.items()}\n",
    "        \n",
    "        ## TODO: define the layers of the model\n",
    "        self.lstm = nn.LSTM(len(self.chars), \n",
    "                            n_hidden, \n",
    "                            n_layers,\n",
    "                            dropout=drop_prob,\n",
    "                            batch_first=True)\n",
    "        \n",
    "        # dropout layer\n",
    "        self.dropout = nn.Dropout(drop_prob)\n",
    "\n",
    "        # fully connected layer\n",
    "        self.fc = nn.Linear(n_hidden, len(self.chars))\n",
    "    \n",
    "    def forward(self, x, hidden):\n",
    "        ''' Forward pass through the network. \n",
    "            These inputs are x, and the hidden/cell state `hidden`. '''\n",
    "                \n",
    "        ## TODO: Get the outputs and the new hidden state from the lstm\n",
    "        output, hidden = self.lstm(x, hidden)\n",
    "\n",
    "        # pass through dropout\n",
    "        out = self.dropout(output)\n",
    "\n",
    "        # stack LSTM outputs to have self.n_hidden columns and the correspondinng number of rows\n",
    "        out = out.contiguous().view(-1, self.n_hidden)\n",
    "\n",
    "        # pass throught the fc layer\n",
    "        out = self.fc(out)\n",
    "        \n",
    "        # return the final output and the hidden state\n",
    "        return out, hidden\n",
    "    \n",
    "    \n",
    "    def init_hidden(self, batch_size):\n",
    "        ''' Initializes hidden state '''\n",
    "        # Create two new tensors with sizes n_layers x batch_size x n_hidden,\n",
    "        # initialized to zero, for hidden state and cell state of LSTM\n",
    "        weight = next(self.parameters()).data\n",
    "        \n",
    "        if (train_on_gpu):\n",
    "            hidden = (weight.new(self.n_layers, batch_size, self.n_hidden).zero_().to(device),\n",
    "                  weight.new(self.n_layers, batch_size, self.n_hidden).zero_().to(device))\n",
    "        else:\n",
    "            hidden = (weight.new(self.n_layers, batch_size, self.n_hidden).zero_(),\n",
    "                      weight.new(self.n_layers, batch_size, self.n_hidden).zero_())\n",
    "        \n",
    "        return hidden\n",
    "        "
   ]
  },
  {
   "cell_type": "markdown",
   "metadata": {},
   "source": [
    "## Time to train\n",
    "\n",
    "The train function gives us the ability to set the number of epochs, the learning rate, and other parameters.\n",
    "\n",
    "Below we're using an Adam optimizer and cross entropy loss since we are looking at character class scores as output. We calculate the loss and perform backpropagation, as usual!\n",
    "\n",
    "A couple of details about training: \n",
    ">* Within the batch loop, we detach the hidden state from its history; this time setting it equal to a new *tuple* variable because an LSTM has a hidden state that is a tuple of the hidden and cell states.\n",
    "* We use [`clip_grad_norm_`](https://pytorch.org/docs/stable/_modules/torch/nn/utils/clip_grad.html) to help prevent exploding gradients."
   ]
  },
  {
   "cell_type": "code",
   "execution_count": 36,
   "metadata": {
    "collapsed": true
   },
   "outputs": [],
   "source": [
    "def train(net, data, epochs=10, batch_size=10, seq_length=50, lr=0.001, clip=5, val_frac=0.1, print_every=10):\n",
    "    ''' Training a network \n",
    "    \n",
    "        Arguments\n",
    "        ---------\n",
    "        \n",
    "        net: CharRNN network\n",
    "        data: text data to train the network\n",
    "        epochs: Number of epochs to train\n",
    "        batch_size: Number of mini-sequences per mini-batch, aka batch size\n",
    "        seq_length: Number of character steps per mini-batch\n",
    "        lr: learning rate\n",
    "        clip: gradient clipping\n",
    "        val_frac: Fraction of data to hold out for validation\n",
    "        print_every: Number of steps for printing training and validation loss\n",
    "    \n",
    "    '''\n",
    "    net.train()\n",
    "    \n",
    "    opt = torch.optim.Adam(net.parameters(), lr=lr)\n",
    "    criterion = nn.CrossEntropyLoss()\n",
    "    \n",
    "    # create training and validation data\n",
    "    val_idx = int(len(data)*(1-val_frac))\n",
    "    data, val_data = data[:val_idx], data[val_idx:]\n",
    "    \n",
    "    if(train_on_gpu):\n",
    "        net.to(device)\n",
    "    \n",
    "    counter = 0\n",
    "    n_chars = len(net.chars)\n",
    "    for e in range(epochs):\n",
    "        # initialize hidden state\n",
    "        h = net.init_hidden(batch_size)\n",
    "        \n",
    "        for x, y in get_batches(data, batch_size, seq_length):\n",
    "            counter += 1\n",
    "            \n",
    "            # One-hot encode our data and make them Torch tensors\n",
    "            x = one_hot_encode(x, n_chars)\n",
    "            inputs, targets = torch.from_numpy(x), torch.from_numpy(y)\n",
    "            \n",
    "            if(train_on_gpu):\n",
    "                inputs, targets = inputs.to(device), targets.to(device)\n",
    "\n",
    "            # Creating new variables for the hidden state, otherwise\n",
    "            # we'd backprop through the entire training history\n",
    "            h = tuple([each.data for each in h])\n",
    "\n",
    "            # zero accumulated gradients\n",
    "            net.zero_grad()\n",
    "            \n",
    "            # get the output from the model\n",
    "            output, h = net(inputs, h)\n",
    "            \n",
    "            # calculate the loss and perform backprop\n",
    "            loss = criterion(output, targets.view(batch_size*seq_length).long())\n",
    "            loss.backward()\n",
    "            # `clip_grad_norm` helps prevent the exploding gradient problem in RNNs / LSTMs.\n",
    "            nn.utils.clip_grad_norm_(net.parameters(), clip)\n",
    "            opt.step()\n",
    "            \n",
    "            # loss stats\n",
    "            if counter % print_every == 0:\n",
    "                # Get validation loss\n",
    "                val_h = net.init_hidden(batch_size)\n",
    "                val_losses = []\n",
    "                net.eval()\n",
    "                for x, y in get_batches(val_data, batch_size, seq_length):\n",
    "                    # One-hot encode our data and make them Torch tensors\n",
    "                    x = one_hot_encode(x, n_chars)\n",
    "                    x, y = torch.from_numpy(x), torch.from_numpy(y)\n",
    "                    \n",
    "                    # Creating new variables for the hidden state, otherwise\n",
    "                    # we'd backprop through the entire training history\n",
    "                    val_h = tuple([each.data for each in val_h])\n",
    "                    \n",
    "                    inputs, targets = x, y\n",
    "                    if(train_on_gpu):\n",
    "                        inputs, targets = inputs.to(device), targets.to(device)\n",
    "\n",
    "                    output, val_h = net(inputs, val_h)\n",
    "                    val_loss = criterion(output, targets.view(batch_size*seq_length).long())\n",
    "                \n",
    "                    val_losses.append(val_loss.item())\n",
    "                \n",
    "                net.train() # reset to train mode after iterationg through validation data\n",
    "                \n",
    "                print(\"Epoch: {}/{}...\".format(e+1, epochs),\n",
    "                      \"Step: {}...\".format(counter),\n",
    "                      \"Loss: {:.4f}...\".format(loss.item()),\n",
    "                      \"Val Loss: {:.4f}\".format(np.mean(val_losses)))"
   ]
  },
  {
   "cell_type": "markdown",
   "metadata": {},
   "source": [
    "## Instantiating the model\n",
    "\n",
    "Now we can actually train the network. First we'll create the network itself, with some given hyperparameters. Then, define the mini-batches sizes, and start training!"
   ]
  },
  {
   "cell_type": "code",
   "execution_count": 37,
   "metadata": {
    "collapsed": true
   },
   "outputs": [
    {
     "name": "stdout",
     "output_type": "stream",
     "text": [
      "CharRNN(\n",
      "  (lstm): LSTM(83, 512, num_layers=2, batch_first=True, dropout=0.5)\n",
      "  (dropout): Dropout(p=0.5, inplace=False)\n",
      "  (fc): Linear(in_features=512, out_features=83, bias=True)\n",
      ")\n"
     ]
    }
   ],
   "source": [
    "## TODO: set your model hyperparameters\n",
    "# define and print the net\n",
    "n_hidden = 512\n",
    "n_layers = 2\n",
    "\n",
    "net = CharRNN(chars, n_hidden, n_layers)\n",
    "print(net)"
   ]
  },
  {
   "cell_type": "markdown",
   "metadata": {},
   "source": [
    "### Set your training hyperparameters!"
   ]
  },
  {
   "cell_type": "code",
   "execution_count": 38,
   "metadata": {
    "collapsed": true,
    "scrolled": true
   },
   "outputs": [
    {
     "name": "stdout",
     "output_type": "stream",
     "text": [
      "Epoch: 1/15... Step: 10... Loss: 3.2373... Val Loss: 3.1627\n",
      "Epoch: 1/15... Step: 20... Loss: 3.1442... Val Loss: 3.1321\n",
      "Epoch: 1/15... Step: 30... Loss: 3.1410... Val Loss: 3.1234\n",
      "Epoch: 1/15... Step: 40... Loss: 3.1127... Val Loss: 3.1194\n",
      "Epoch: 1/15... Step: 50... Loss: 3.1433... Val Loss: 3.1174\n",
      "Epoch: 1/15... Step: 60... Loss: 3.1137... Val Loss: 3.1147\n",
      "Epoch: 1/15... Step: 70... Loss: 3.1034... Val Loss: 3.1118\n",
      "Epoch: 1/15... Step: 80... Loss: 3.1145... Val Loss: 3.1030\n",
      "Epoch: 1/15... Step: 90... Loss: 3.0953... Val Loss: 3.0794\n",
      "Epoch: 1/15... Step: 100... Loss: 3.0338... Val Loss: 3.0289\n",
      "Epoch: 1/15... Step: 110... Loss: 2.9742... Val Loss: 2.9363\n",
      "Epoch: 1/15... Step: 120... Loss: 2.8364... Val Loss: 2.9377\n",
      "Epoch: 1/15... Step: 130... Loss: 2.8733... Val Loss: 2.8449\n",
      "Epoch: 2/15... Step: 140... Loss: 2.7554... Val Loss: 2.7285\n",
      "Epoch: 2/15... Step: 150... Loss: 2.6752... Val Loss: 2.6527\n",
      "Epoch: 2/15... Step: 160... Loss: 2.6069... Val Loss: 2.5923\n",
      "Epoch: 2/15... Step: 170... Loss: 2.5405... Val Loss: 2.5484\n",
      "Epoch: 2/15... Step: 180... Loss: 2.5098... Val Loss: 2.5110\n",
      "Epoch: 2/15... Step: 190... Loss: 2.5118... Val Loss: 2.4855\n",
      "Epoch: 2/15... Step: 200... Loss: 2.4620... Val Loss: 2.4522\n",
      "Epoch: 2/15... Step: 210... Loss: 2.4242... Val Loss: 2.4183\n",
      "Epoch: 2/15... Step: 220... Loss: 2.3949... Val Loss: 2.3920\n",
      "Epoch: 2/15... Step: 230... Loss: 2.3770... Val Loss: 2.3671\n",
      "Epoch: 2/15... Step: 240... Loss: 2.3641... Val Loss: 2.3428\n",
      "Epoch: 2/15... Step: 250... Loss: 2.2999... Val Loss: 2.3148\n",
      "Epoch: 2/15... Step: 260... Loss: 2.2715... Val Loss: 2.2890\n",
      "Epoch: 2/15... Step: 270... Loss: 2.2827... Val Loss: 2.2647\n",
      "Epoch: 3/15... Step: 280... Loss: 2.2716... Val Loss: 2.2417\n",
      "Epoch: 3/15... Step: 290... Loss: 2.2322... Val Loss: 2.2187\n",
      "Epoch: 3/15... Step: 300... Loss: 2.2115... Val Loss: 2.1958\n",
      "Epoch: 3/15... Step: 310... Loss: 2.2011... Val Loss: 2.1821\n",
      "Epoch: 3/15... Step: 320... Loss: 2.1632... Val Loss: 2.1599\n",
      "Epoch: 3/15... Step: 330... Loss: 2.1264... Val Loss: 2.1495\n",
      "Epoch: 3/15... Step: 340... Loss: 2.1464... Val Loss: 2.1208\n",
      "Epoch: 3/15... Step: 350... Loss: 2.1350... Val Loss: 2.1071\n",
      "Epoch: 3/15... Step: 360... Loss: 2.0523... Val Loss: 2.0885\n",
      "Epoch: 3/15... Step: 370... Loss: 2.0805... Val Loss: 2.0721\n",
      "Epoch: 3/15... Step: 380... Loss: 2.0601... Val Loss: 2.0568\n",
      "Epoch: 3/15... Step: 390... Loss: 2.0390... Val Loss: 2.0414\n",
      "Epoch: 3/15... Step: 400... Loss: 2.0097... Val Loss: 2.0247\n",
      "Epoch: 3/15... Step: 410... Loss: 2.0090... Val Loss: 2.0113\n",
      "Epoch: 4/15... Step: 420... Loss: 1.9954... Val Loss: 1.9958\n",
      "Epoch: 4/15... Step: 430... Loss: 1.9965... Val Loss: 1.9827\n",
      "Epoch: 4/15... Step: 440... Loss: 1.9651... Val Loss: 1.9694\n",
      "Epoch: 4/15... Step: 450... Loss: 1.9142... Val Loss: 1.9589\n",
      "Epoch: 4/15... Step: 460... Loss: 1.9165... Val Loss: 1.9443\n",
      "Epoch: 4/15... Step: 470... Loss: 1.9401... Val Loss: 1.9329\n",
      "Epoch: 4/15... Step: 480... Loss: 1.9053... Val Loss: 1.9285\n",
      "Epoch: 4/15... Step: 490... Loss: 1.9267... Val Loss: 1.9119\n",
      "Epoch: 4/15... Step: 500... Loss: 1.9252... Val Loss: 1.9008\n",
      "Epoch: 4/15... Step: 510... Loss: 1.8815... Val Loss: 1.8908\n",
      "Epoch: 4/15... Step: 520... Loss: 1.8998... Val Loss: 1.8808\n",
      "Epoch: 4/15... Step: 530... Loss: 1.8625... Val Loss: 1.8744\n",
      "Epoch: 4/15... Step: 540... Loss: 1.8354... Val Loss: 1.8599\n",
      "Epoch: 4/15... Step: 550... Loss: 1.8660... Val Loss: 1.8535\n",
      "Epoch: 5/15... Step: 560... Loss: 1.8407... Val Loss: 1.8460\n",
      "Epoch: 5/15... Step: 570... Loss: 1.8336... Val Loss: 1.8381\n",
      "Epoch: 5/15... Step: 580... Loss: 1.8083... Val Loss: 1.8292\n",
      "Epoch: 5/15... Step: 590... Loss: 1.8128... Val Loss: 1.8203\n",
      "Epoch: 5/15... Step: 600... Loss: 1.8033... Val Loss: 1.8115\n",
      "Epoch: 5/15... Step: 610... Loss: 1.7707... Val Loss: 1.8052\n",
      "Epoch: 5/15... Step: 620... Loss: 1.7883... Val Loss: 1.7989\n",
      "Epoch: 5/15... Step: 630... Loss: 1.8016... Val Loss: 1.7936\n",
      "Epoch: 5/15... Step: 640... Loss: 1.7752... Val Loss: 1.7823\n",
      "Epoch: 5/15... Step: 650... Loss: 1.7557... Val Loss: 1.7778\n",
      "Epoch: 5/15... Step: 660... Loss: 1.7270... Val Loss: 1.7724\n",
      "Epoch: 5/15... Step: 670... Loss: 1.7636... Val Loss: 1.7646\n",
      "Epoch: 5/15... Step: 680... Loss: 1.7511... Val Loss: 1.7616\n",
      "Epoch: 5/15... Step: 690... Loss: 1.7365... Val Loss: 1.7525\n",
      "Epoch: 6/15... Step: 700... Loss: 1.7266... Val Loss: 1.7497\n",
      "Epoch: 6/15... Step: 710... Loss: 1.7291... Val Loss: 1.7420\n",
      "Epoch: 6/15... Step: 720... Loss: 1.7034... Val Loss: 1.7373\n",
      "Epoch: 6/15... Step: 730... Loss: 1.7335... Val Loss: 1.7322\n",
      "Epoch: 6/15... Step: 740... Loss: 1.6893... Val Loss: 1.7251\n",
      "Epoch: 6/15... Step: 750... Loss: 1.6698... Val Loss: 1.7215\n",
      "Epoch: 6/15... Step: 760... Loss: 1.7143... Val Loss: 1.7137\n",
      "Epoch: 6/15... Step: 770... Loss: 1.6945... Val Loss: 1.7123\n",
      "Epoch: 6/15... Step: 780... Loss: 1.6749... Val Loss: 1.7073\n",
      "Epoch: 6/15... Step: 790... Loss: 1.6661... Val Loss: 1.7023\n",
      "Epoch: 6/15... Step: 800... Loss: 1.6890... Val Loss: 1.6969\n",
      "Epoch: 6/15... Step: 810... Loss: 1.6810... Val Loss: 1.6916\n",
      "Epoch: 6/15... Step: 820... Loss: 1.6391... Val Loss: 1.6891\n",
      "Epoch: 6/15... Step: 830... Loss: 1.6801... Val Loss: 1.6838\n",
      "Epoch: 7/15... Step: 840... Loss: 1.6352... Val Loss: 1.6796\n",
      "Epoch: 7/15... Step: 850... Loss: 1.6462... Val Loss: 1.6739\n",
      "Epoch: 7/15... Step: 860... Loss: 1.6351... Val Loss: 1.6714\n",
      "Epoch: 7/15... Step: 870... Loss: 1.6453... Val Loss: 1.6655\n",
      "Epoch: 7/15... Step: 880... Loss: 1.6474... Val Loss: 1.6642\n",
      "Epoch: 7/15... Step: 890... Loss: 1.6350... Val Loss: 1.6567\n",
      "Epoch: 7/15... Step: 900... Loss: 1.6186... Val Loss: 1.6552\n",
      "Epoch: 7/15... Step: 910... Loss: 1.5972... Val Loss: 1.6512\n",
      "Epoch: 7/15... Step: 920... Loss: 1.6184... Val Loss: 1.6468\n",
      "Epoch: 7/15... Step: 930... Loss: 1.6106... Val Loss: 1.6465\n",
      "Epoch: 7/15... Step: 940... Loss: 1.6009... Val Loss: 1.6434\n",
      "Epoch: 7/15... Step: 950... Loss: 1.6189... Val Loss: 1.6359\n",
      "Epoch: 7/15... Step: 960... Loss: 1.6092... Val Loss: 1.6360\n",
      "Epoch: 7/15... Step: 970... Loss: 1.6290... Val Loss: 1.6313\n",
      "Epoch: 8/15... Step: 980... Loss: 1.5941... Val Loss: 1.6291\n",
      "Epoch: 8/15... Step: 990... Loss: 1.6002... Val Loss: 1.6241\n",
      "Epoch: 8/15... Step: 1000... Loss: 1.5870... Val Loss: 1.6215\n",
      "Epoch: 8/15... Step: 1010... Loss: 1.6306... Val Loss: 1.6208\n",
      "Epoch: 8/15... Step: 1020... Loss: 1.5913... Val Loss: 1.6163\n",
      "Epoch: 8/15... Step: 1030... Loss: 1.5756... Val Loss: 1.6120\n",
      "Epoch: 8/15... Step: 1040... Loss: 1.5769... Val Loss: 1.6107\n",
      "Epoch: 8/15... Step: 1050... Loss: 1.5773... Val Loss: 1.6074\n",
      "Epoch: 8/15... Step: 1060... Loss: 1.5718... Val Loss: 1.6033\n",
      "Epoch: 8/15... Step: 1070... Loss: 1.5847... Val Loss: 1.6024\n",
      "Epoch: 8/15... Step: 1080... Loss: 1.5772... Val Loss: 1.5991\n",
      "Epoch: 8/15... Step: 1090... Loss: 1.5525... Val Loss: 1.5951\n",
      "Epoch: 8/15... Step: 1100... Loss: 1.5381... Val Loss: 1.5934\n",
      "Epoch: 8/15... Step: 1110... Loss: 1.5611... Val Loss: 1.5913\n",
      "Epoch: 9/15... Step: 1120... Loss: 1.5751... Val Loss: 1.5883\n",
      "Epoch: 9/15... Step: 1130... Loss: 1.5622... Val Loss: 1.5850\n",
      "Epoch: 9/15... Step: 1140... Loss: 1.5536... Val Loss: 1.5816\n",
      "Epoch: 9/15... Step: 1150... Loss: 1.5761... Val Loss: 1.5797\n",
      "Epoch: 9/15... Step: 1160... Loss: 1.5282... Val Loss: 1.5796\n",
      "Epoch: 9/15... Step: 1170... Loss: 1.5430... Val Loss: 1.5766\n",
      "Epoch: 9/15... Step: 1180... Loss: 1.5275... Val Loss: 1.5781\n",
      "Epoch: 9/15... Step: 1190... Loss: 1.5653... Val Loss: 1.5738\n",
      "Epoch: 9/15... Step: 1200... Loss: 1.5055... Val Loss: 1.5687\n",
      "Epoch: 9/15... Step: 1210... Loss: 1.5226... Val Loss: 1.5708\n",
      "Epoch: 9/15... Step: 1220... Loss: 1.5254... Val Loss: 1.5692\n",
      "Epoch: 9/15... Step: 1230... Loss: 1.4983... Val Loss: 1.5629\n",
      "Epoch: 9/15... Step: 1240... Loss: 1.5099... Val Loss: 1.5636\n",
      "Epoch: 9/15... Step: 1250... Loss: 1.5222... Val Loss: 1.5610\n",
      "Epoch: 10/15... Step: 1260... Loss: 1.5284... Val Loss: 1.5605\n",
      "Epoch: 10/15... Step: 1270... Loss: 1.5159... Val Loss: 1.5597\n",
      "Epoch: 10/15... Step: 1280... Loss: 1.5281... Val Loss: 1.5553\n",
      "Epoch: 10/15... Step: 1290... Loss: 1.5166... Val Loss: 1.5522\n",
      "Epoch: 10/15... Step: 1300... Loss: 1.5169... Val Loss: 1.5519\n",
      "Epoch: 10/15... Step: 1310... Loss: 1.5195... Val Loss: 1.5489\n",
      "Epoch: 10/15... Step: 1320... Loss: 1.4795... Val Loss: 1.5531\n",
      "Epoch: 10/15... Step: 1330... Loss: 1.4948... Val Loss: 1.5460\n",
      "Epoch: 10/15... Step: 1340... Loss: 1.4851... Val Loss: 1.5424\n",
      "Epoch: 10/15... Step: 1350... Loss: 1.4688... Val Loss: 1.5424\n",
      "Epoch: 10/15... Step: 1360... Loss: 1.4884... Val Loss: 1.5443\n",
      "Epoch: 10/15... Step: 1370... Loss: 1.4731... Val Loss: 1.5393\n",
      "Epoch: 10/15... Step: 1380... Loss: 1.5105... Val Loss: 1.5388\n",
      "Epoch: 10/15... Step: 1390... Loss: 1.5127... Val Loss: 1.5354\n",
      "Epoch: 11/15... Step: 1400... Loss: 1.5214... Val Loss: 1.5335\n",
      "Epoch: 11/15... Step: 1410... Loss: 1.5316... Val Loss: 1.5334\n",
      "Epoch: 11/15... Step: 1420... Loss: 1.5149... Val Loss: 1.5305\n",
      "Epoch: 11/15... Step: 1430... Loss: 1.4769... Val Loss: 1.5303\n",
      "Epoch: 11/15... Step: 1440... Loss: 1.5184... Val Loss: 1.5287\n",
      "Epoch: 11/15... Step: 1450... Loss: 1.4389... Val Loss: 1.5273\n",
      "Epoch: 11/15... Step: 1460... Loss: 1.4610... Val Loss: 1.5280\n",
      "Epoch: 11/15... Step: 1470... Loss: 1.4564... Val Loss: 1.5225\n",
      "Epoch: 11/15... Step: 1480... Loss: 1.4815... Val Loss: 1.5218\n",
      "Epoch: 11/15... Step: 1490... Loss: 1.4669... Val Loss: 1.5242\n",
      "Epoch: 11/15... Step: 1500... Loss: 1.4549... Val Loss: 1.5218\n",
      "Epoch: 11/15... Step: 1510... Loss: 1.4330... Val Loss: 1.5196\n",
      "Epoch: 11/15... Step: 1520... Loss: 1.4742... Val Loss: 1.5167\n",
      "Epoch: 12/15... Step: 1530... Loss: 1.5175... Val Loss: 1.5155\n",
      "Epoch: 12/15... Step: 1540... Loss: 1.4859... Val Loss: 1.5152\n",
      "Epoch: 12/15... Step: 1550... Loss: 1.4793... Val Loss: 1.5179\n",
      "Epoch: 12/15... Step: 1560... Loss: 1.4946... Val Loss: 1.5125\n",
      "Epoch: 12/15... Step: 1570... Loss: 1.4403... Val Loss: 1.5094\n",
      "Epoch: 12/15... Step: 1580... Loss: 1.4205... Val Loss: 1.5099\n",
      "Epoch: 12/15... Step: 1590... Loss: 1.4247... Val Loss: 1.5089\n",
      "Epoch: 12/15... Step: 1600... Loss: 1.4376... Val Loss: 1.5110\n",
      "Epoch: 12/15... Step: 1610... Loss: 1.4373... Val Loss: 1.5088\n",
      "Epoch: 12/15... Step: 1620... Loss: 1.4326... Val Loss: 1.5057\n",
      "Epoch: 12/15... Step: 1630... Loss: 1.4594... Val Loss: 1.5071\n",
      "Epoch: 12/15... Step: 1640... Loss: 1.4326... Val Loss: 1.5041\n",
      "Epoch: 12/15... Step: 1650... Loss: 1.4027... Val Loss: 1.5049\n",
      "Epoch: 12/15... Step: 1660... Loss: 1.4689... Val Loss: 1.5038\n",
      "Epoch: 13/15... Step: 1670... Loss: 1.4412... Val Loss: 1.5020\n",
      "Epoch: 13/15... Step: 1680... Loss: 1.4461... Val Loss: 1.4985\n",
      "Epoch: 13/15... Step: 1690... Loss: 1.4279... Val Loss: 1.4979\n",
      "Epoch: 13/15... Step: 1700... Loss: 1.4317... Val Loss: 1.4972\n",
      "Epoch: 13/15... Step: 1710... Loss: 1.3966... Val Loss: 1.4942\n",
      "Epoch: 13/15... Step: 1720... Loss: 1.4193... Val Loss: 1.4952\n",
      "Epoch: 13/15... Step: 1730... Loss: 1.4512... Val Loss: 1.4933\n",
      "Epoch: 13/15... Step: 1740... Loss: 1.4204... Val Loss: 1.4930\n",
      "Epoch: 13/15... Step: 1750... Loss: 1.3901... Val Loss: 1.4938\n",
      "Epoch: 13/15... Step: 1760... Loss: 1.4150... Val Loss: 1.4931\n",
      "Epoch: 13/15... Step: 1770... Loss: 1.4410... Val Loss: 1.4917\n",
      "Epoch: 13/15... Step: 1780... Loss: 1.4136... Val Loss: 1.4914\n",
      "Epoch: 13/15... Step: 1790... Loss: 1.3930... Val Loss: 1.4930\n",
      "Epoch: 13/15... Step: 1800... Loss: 1.4206... Val Loss: 1.4893\n",
      "Epoch: 14/15... Step: 1810... Loss: 1.4158... Val Loss: 1.4913\n",
      "Epoch: 14/15... Step: 1820... Loss: 1.4142... Val Loss: 1.4862\n",
      "Epoch: 14/15... Step: 1830... Loss: 1.4311... Val Loss: 1.4837\n",
      "Epoch: 14/15... Step: 1840... Loss: 1.3847... Val Loss: 1.4870\n",
      "Epoch: 14/15... Step: 1850... Loss: 1.3613... Val Loss: 1.4828\n",
      "Epoch: 14/15... Step: 1860... Loss: 1.4282... Val Loss: 1.4834\n",
      "Epoch: 14/15... Step: 1870... Loss: 1.4160... Val Loss: 1.4801\n",
      "Epoch: 14/15... Step: 1880... Loss: 1.4179... Val Loss: 1.4781\n",
      "Epoch: 14/15... Step: 1890... Loss: 1.4276... Val Loss: 1.4811\n",
      "Epoch: 14/15... Step: 1900... Loss: 1.4056... Val Loss: 1.4825\n",
      "Epoch: 14/15... Step: 1910... Loss: 1.4266... Val Loss: 1.4793\n",
      "Epoch: 14/15... Step: 1920... Loss: 1.3965... Val Loss: 1.4782\n",
      "Epoch: 14/15... Step: 1930... Loss: 1.3645... Val Loss: 1.4786\n",
      "Epoch: 14/15... Step: 1940... Loss: 1.4268... Val Loss: 1.4760\n",
      "Epoch: 15/15... Step: 1950... Loss: 1.3947... Val Loss: 1.4887\n",
      "Epoch: 15/15... Step: 1960... Loss: 1.4078... Val Loss: 1.4757\n",
      "Epoch: 15/15... Step: 1970... Loss: 1.3915... Val Loss: 1.4750\n",
      "Epoch: 15/15... Step: 1980... Loss: 1.3769... Val Loss: 1.4757\n",
      "Epoch: 15/15... Step: 1990... Loss: 1.3858... Val Loss: 1.4720\n",
      "Epoch: 15/15... Step: 2000... Loss: 1.3744... Val Loss: 1.4740\n",
      "Epoch: 15/15... Step: 2010... Loss: 1.3928... Val Loss: 1.4710\n",
      "Epoch: 15/15... Step: 2020... Loss: 1.4158... Val Loss: 1.4688\n",
      "Epoch: 15/15... Step: 2030... Loss: 1.3658... Val Loss: 1.4681\n",
      "Epoch: 15/15... Step: 2040... Loss: 1.3887... Val Loss: 1.4708\n",
      "Epoch: 15/15... Step: 2050... Loss: 1.3750... Val Loss: 1.4685\n",
      "Epoch: 15/15... Step: 2060... Loss: 1.3890... Val Loss: 1.4675\n",
      "Epoch: 15/15... Step: 2070... Loss: 1.3940... Val Loss: 1.4687\n",
      "Epoch: 15/15... Step: 2080... Loss: 1.3796... Val Loss: 1.4664\n"
     ]
    }
   ],
   "source": [
    "batch_size = 128\n",
    "seq_length = 100\n",
    "n_epochs = 15 # start small if you are just testing initial behavior\n",
    "\n",
    "# train the model\n",
    "train(net, encoded, epochs=n_epochs, batch_size=batch_size, seq_length=seq_length, lr=0.001, print_every=10)"
   ]
  },
  {
   "cell_type": "markdown",
   "metadata": {},
   "source": [
    "## Getting the best model\n",
    "\n",
    "To set your hyperparameters to get the best performance, you'll want to watch the training and validation losses. If your training loss is much lower than the validation loss, you're overfitting. Increase regularization (more dropout) or use a smaller network. If the training and validation losses are close, you're underfitting so you can increase the size of the network."
   ]
  },
  {
   "cell_type": "markdown",
   "metadata": {},
   "source": [
    "## Hyperparameters\n",
    "\n",
    "Here are the hyperparameters for the network.\n",
    "\n",
    "In defining the model:\n",
    "* `n_hidden` - The number of units in the hidden layers.\n",
    "* `n_layers` - Number of hidden LSTM layers to use.\n",
    "\n",
    "We assume that dropout probability and learning rate will be kept at the default, in this example.\n",
    "\n",
    "And in training:\n",
    "* `batch_size` - Number of sequences running through the network in one pass.\n",
    "* `seq_length` - Number of characters in the sequence the network is trained on. Larger is better typically, the network will learn more long range dependencies. But it takes longer to train. 100 is typically a good number here.\n",
    "* `lr` - Learning rate for training\n",
    "\n",
    "Here's some good advice from Andrej Karpathy on training the network. I'm going to copy it in here for your benefit, but also link to [where it originally came from](https://github.com/karpathy/char-rnn#tips-and-tricks).\n",
    "\n",
    "> ## Tips and Tricks\n",
    "\n",
    ">### Monitoring Validation Loss vs. Training Loss\n",
    ">If you're somewhat new to Machine Learning or Neural Networks it can take a bit of expertise to get good models. The most important quantity to keep track of is the difference between your training loss (printed during training) and the validation loss (printed once in a while when the RNN is run on the validation data (by default every 1000 iterations)). In particular:\n",
    "\n",
    "> - If your training loss is much lower than validation loss then this means the network might be **overfitting**. Solutions to this are to decrease your network size, or to increase dropout. For example you could try dropout of 0.5 and so on.\n",
    "> - If your training/validation loss are about equal then your model is **underfitting**. Increase the size of your model (either number of layers or the raw number of neurons per layer)\n",
    "\n",
    "> ### Approximate number of parameters\n",
    "\n",
    "> The two most important parameters that control the model are `n_hidden` and `n_layers`. I would advise that you always use `n_layers` of either 2/3. The `n_hidden` can be adjusted based on how much data you have. The two important quantities to keep track of here are:\n",
    "\n",
    "> - The number of parameters in your model. This is printed when you start training.\n",
    "> - The size of your dataset. 1MB file is approximately 1 million characters.\n",
    "\n",
    ">These two should be about the same order of magnitude. It's a little tricky to tell. Here are some examples:\n",
    "\n",
    "> - I have a 100MB dataset and I'm using the default parameter settings (which currently print 150K parameters). My data size is significantly larger (100 mil >> 0.15 mil), so I expect to heavily underfit. I am thinking I can comfortably afford to make `n_hidden` larger.\n",
    "> - I have a 10MB dataset and running a 10 million parameter model. I'm slightly nervous and I'm carefully monitoring my validation loss. If it's larger than my training loss then I may want to try to increase dropout a bit and see if that helps the validation loss.\n",
    "\n",
    "> ### Best models strategy\n",
    "\n",
    ">The winning strategy to obtaining very good models (if you have the compute time) is to always err on making the network larger (as large as you're willing to wait for it to compute) and then try different dropout values (between 0,1). Whatever model has the best validation performance (the loss, written in the checkpoint filename, low is good) is the one you should use in the end.\n",
    "\n",
    ">It is very common in deep learning to run many different models with many different hyperparameter settings, and in the end take whatever checkpoint gave the best validation performance.\n",
    "\n",
    ">By the way, the size of your training and validation splits are also parameters. Make sure you have a decent amount of data in your validation set or otherwise the validation performance will be noisy and not very informative."
   ]
  },
  {
   "cell_type": "markdown",
   "metadata": {},
   "source": [
    "## Checkpoint\n",
    "\n",
    "After training, we'll save the model so we can load it again later if we need too. Here I'm saving the parameters needed to create the same architecture, the hidden layer hyperparameters and the text characters."
   ]
  },
  {
   "cell_type": "code",
   "execution_count": 39,
   "metadata": {
    "collapsed": true
   },
   "outputs": [],
   "source": [
    "# change the name, for saving multiple files\n",
    "model_name = 'rnn_x_epoch.net'\n",
    "\n",
    "checkpoint = {'n_hidden': net.n_hidden,\n",
    "              'n_layers': net.n_layers,\n",
    "              'state_dict': net.state_dict(),\n",
    "              'tokens': net.chars}\n",
    "\n",
    "with open(model_name, 'wb') as f:\n",
    "    torch.save(checkpoint, f)"
   ]
  },
  {
   "cell_type": "markdown",
   "metadata": {},
   "source": [
    "---\n",
    "## Making Predictions\n",
    "\n",
    "Now that the model is trained, we'll want to sample from it and make predictions about next characters! To sample, we pass in a character and have the network predict the next character. Then we take that character, pass it back in, and get another predicted character. Just keep doing this and you'll generate a bunch of text!\n",
    "\n",
    "### A note on the `predict`  function\n",
    "\n",
    "The output of our RNN is from a fully-connected layer and it outputs a **distribution of next-character scores**.\n",
    "\n",
    "> To actually get the next character, we apply a softmax function, which gives us a *probability* distribution that we can then sample to predict the next character.\n",
    "\n",
    "### Top K sampling\n",
    "\n",
    "Our predictions come from a categorical probability distribution over all the possible characters. We can make the sample text and make it more reasonable to handle (with less variables) by only considering some $K$ most probable characters. This will prevent the network from giving us completely absurd characters while allowing it to introduce some noise and randomness into the sampled text. Read more about [topk, here](https://pytorch.org/docs/stable/torch.html#torch.topk).\n"
   ]
  },
  {
   "cell_type": "code",
   "execution_count": 43,
   "metadata": {
    "collapsed": true
   },
   "outputs": [],
   "source": [
    "def predict(net, char, h=None, top_k=None):\n",
    "        ''' Given a character, predict the next character.\n",
    "            Returns the predicted character and the hidden state.\n",
    "        '''\n",
    "        \n",
    "        # tensor inputs\n",
    "        x = np.array([[net.char2int[char]]])\n",
    "        x = one_hot_encode(x, len(net.chars))\n",
    "        inputs = torch.from_numpy(x)\n",
    "        \n",
    "        if(train_on_gpu):\n",
    "            inputs = inputs.to(device)\n",
    "        \n",
    "        # detach hidden state from history\n",
    "        h = tuple([each.data for each in h])\n",
    "        # get the output of the model\n",
    "        out, h = net(inputs, h)\n",
    "\n",
    "        # get the character probabilities\n",
    "        p = F.softmax(out, dim=1).data\n",
    "        if(train_on_gpu):\n",
    "            p = p.cpu() # move to cpu\n",
    "        \n",
    "        # get top characters\n",
    "        if top_k is None:\n",
    "            top_ch = np.arange(len(net.chars))\n",
    "        else:\n",
    "            p, top_ch = p.topk(top_k)\n",
    "            top_ch = top_ch.numpy().squeeze()\n",
    "        \n",
    "        # select the likely next character with some element of randomness\n",
    "        p = p.numpy().squeeze()\n",
    "        char = np.random.choice(top_ch, p=p/p.sum())\n",
    "        \n",
    "        # return the encoded value of the predicted char and the hidden state\n",
    "        return net.int2char[char], h"
   ]
  },
  {
   "cell_type": "markdown",
   "metadata": {},
   "source": [
    "### Priming and generating text \n",
    "\n",
    "Typically you'll want to prime the network so you can build up a hidden state. Otherwise the network will start out generating characters at random. In general the first bunch of characters will be a little rough since it hasn't built up a long history of characters to predict from."
   ]
  },
  {
   "cell_type": "code",
   "execution_count": 44,
   "metadata": {
    "collapsed": true
   },
   "outputs": [],
   "source": [
    "def sample(net, size, prime='The', top_k=None):\n",
    "        \n",
    "    if(train_on_gpu):\n",
    "        net.to(device)\n",
    "    else:\n",
    "        net.to(device)\n",
    "    \n",
    "    net.eval() # eval mode\n",
    "    \n",
    "    # First off, run through the prime characters\n",
    "    chars = [ch for ch in prime]\n",
    "    h = net.init_hidden(1)\n",
    "    for ch in prime:\n",
    "        char, h = predict(net, ch, h, top_k=top_k)\n",
    "\n",
    "    chars.append(char)\n",
    "    \n",
    "    # Now pass in the previous character and get a new one\n",
    "    for ii in range(size):\n",
    "        char, h = predict(net, chars[-1], h, top_k=top_k)\n",
    "        chars.append(char)\n",
    "\n",
    "    return ''.join(chars)"
   ]
  },
  {
   "cell_type": "code",
   "execution_count": 45,
   "metadata": {
    "collapsed": true
   },
   "outputs": [
    {
     "name": "stdout",
     "output_type": "stream",
     "text": [
      "Anna\n",
      "Arkadyevna, wording the priest feeling was the\n",
      "stupining from his faces. He was aslent of that to the mide is the\n",
      "simple and hands with which all that there was a little brother's ancelearly, and\n",
      "talking into his brille--that she drew his side as her still and shalk on the chear the stide. This was the princess so much\n",
      "before his brother, too stretting the countess and a position\n",
      "of the country of the paration of\n",
      "the darking was to see her.\n",
      "\n",
      "She was thinking of a merement of\n",
      "his wife was a sension of him, he had not the door of the\n",
      "carrioge. The plince would hand at the province of the mother's countod face, with a gentered\n",
      "sense of her\n",
      "sounding the sort of\n",
      "the same of her son, who had not all he studgent in a lest to this. Hor head that they would\n",
      "have to be said:,\n",
      "she was dispossible for her head finished and worked.\n",
      "\n",
      "\"Well, you know\n",
      "her in the\n",
      "mother?\" he said.\n",
      "\n",
      "Alexey Alexandrovitch would not\n",
      "spoilly without alm she had not an instant of\n",
      "having. Her husband\n",
      "answered, the\n",
      "secretants\n"
     ]
    }
   ],
   "source": [
    "print(sample(net, 1000, prime='Anna', top_k=5))"
   ]
  },
  {
   "cell_type": "markdown",
   "metadata": {},
   "source": [
    "## Loading a checkpoint"
   ]
  },
  {
   "cell_type": "code",
   "execution_count": 46,
   "metadata": {
    "collapsed": true
   },
   "outputs": [
    {
     "data": {
      "text/plain": [
       "<All keys matched successfully>"
      ]
     },
     "execution_count": 46,
     "metadata": {},
     "output_type": "execute_result"
    }
   ],
   "source": [
    "# Here we have loaded in a model that trained over 20 epochs `rnn_20_epoch.net`\n",
    "with open('rnn_x_epoch.net', 'rb') as f:\n",
    "    checkpoint = torch.load(f)\n",
    "    \n",
    "loaded = CharRNN(checkpoint['tokens'], n_hidden=checkpoint['n_hidden'], n_layers=checkpoint['n_layers'])\n",
    "loaded.load_state_dict(checkpoint['state_dict'])"
   ]
  },
  {
   "cell_type": "code",
   "execution_count": 47,
   "metadata": {
    "collapsed": true
   },
   "outputs": [
    {
     "name": "stdout",
     "output_type": "stream",
     "text": [
      "And Levin said.\n",
      "\n",
      "\"I'm so and the sound of all there.\"\n",
      "\n",
      "\"Oh, I will be almost\n",
      "a sechous, which I can't help you will an in the samp of\n",
      "that the\n",
      "contempticule from the points,\" the solled classess of treiching the course, and shall the county with an all and compliefient, and taking into the same family\n",
      "outsoun of the drink of\n",
      "her feelituse and said and a serted whole sort to bride at the persent of\n",
      "the part without\n",
      "seeing the pranciples of her face\n",
      "as the samith at the painting at the conversation with the darking the conderstanding the same first second and anything of the soul, and she saw the doctor,\n",
      "thanking was the point of the mearing with her to\n",
      "the\n",
      "pocertain to those time. The mercanted the mother was in the semene\n",
      "was,\n",
      "had been treem, then they had been\n",
      "consisered in his way and all that the sumple would not but in\n",
      "her sendicile words, but the children, which she was taking his wife.\n",
      "\n",
      "\"It's not to be in a lincle,\" said Levin, working at her time, had been all open in a smile of the conversation with the\n",
      "dinner. The change of\n",
      "his heart he had so as to be heart to say him, when the\n",
      "carrioge houre, talking of a shates\n",
      "with a son, so to say in the fearoms of his with hands and taking at ince she seemed to the comportain to steed his with all to his\n",
      "sister, the same and the\n",
      "solition of their forming of the\n",
      "married to his face, with a paptart true of when the points of his children served\n",
      "with the door. He was to take the mustaris for shall over the merring, but what this course he was at all the profession of his shalling attention. So that the made of his father, as there was the paint of the church as that he had not a cape of the point of the crains, she\n",
      "flower that in the step the same and a second whise told him, and the straight and they saw her to this side, he said, smiling, so still himself in the moment in the semenie simple and\n",
      "broke from, and as though the princess was to his first conditions\n",
      "of the secrotate that he was sudding in the sight of\n",
      "such servance, and th\n"
     ]
    }
   ],
   "source": [
    "# Sample using a loaded model\n",
    "print(sample(loaded, 2000, top_k=5, prime=\"And Levin said\"))"
   ]
  },
  {
   "cell_type": "code",
   "execution_count": null,
   "metadata": {
    "collapsed": true
   },
   "outputs": [],
   "source": []
  }
 ],
 "metadata": {
  "kernelspec": {
   "display_name": "Python [default]",
   "language": "python",
   "name": "python3"
  },
  "language_info": {
   "codemirror_mode": {
    "name": "ipython",
    "version": 3
   },
   "file_extension": ".py",
   "mimetype": "text/x-python",
   "name": "python",
   "nbconvert_exporter": "python",
   "pygments_lexer": "ipython3",
   "version": "3.11.4"
  }
 },
 "nbformat": 4,
 "nbformat_minor": 2
}
